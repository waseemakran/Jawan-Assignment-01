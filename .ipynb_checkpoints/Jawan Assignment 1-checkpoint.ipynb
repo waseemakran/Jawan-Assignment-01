{
 "cells": [
  {
   "cell_type": "code",
   "execution_count": 1,
   "id": "d1754156",
   "metadata": {},
   "outputs": [
    {
     "name": "stdout",
     "output_type": "stream",
     "text": [
      "Twinkle, twinkle, little star,\n",
      "         How I wonder what you are!\n",
      "               Up above the world so high,\n",
      "               Like a diamond in the sky.\n",
      "Twinkle, twinkle, little star\n",
      "          How I wonder what you are\n"
     ]
    }
   ],
   "source": [
    "print(\"Twinkle, twinkle, little star,\")\n",
    "print(\"         How I wonder what you are!\")\n",
    "print(\"               Up above the world so high,\")\n",
    "print(\"               Like a diamond in the sky.\")\n",
    "print(\"Twinkle, twinkle, little star\")\n",
    "print(\"          How I wonder what you are\")"
   ]
  },
  {
   "cell_type": "code",
   "execution_count": 2,
   "id": "f95627a8",
   "metadata": {},
   "outputs": [
    {
     "name": "stdout",
     "output_type": "stream",
     "text": [
      "3.9.7 (default, Sep 16 2021, 16:59:28) [MSC v.1916 64 bit (AMD64)]\n"
     ]
    }
   ],
   "source": [
    "#Second Question\n",
    "\n",
    "import sys\n",
    "print (sys.version)\n"
   ]
  },
  {
   "cell_type": "code",
   "execution_count": 3,
   "id": "89cfbdd7",
   "metadata": {},
   "outputs": [
    {
     "name": "stdout",
     "output_type": "stream",
     "text": [
      "Current Date & Time is: \n",
      "21-12-29 16:22:23\n"
     ]
    }
   ],
   "source": [
    "#3rd Question\n",
    "\n",
    "import datetime\n",
    "now=datetime.datetime.now()\n",
    "print(\"Current Date & Time is: \")\n",
    "print(now.strftime(\"%y-%m-%d %H:%M:%S\"))\n"
   ]
  },
  {
   "cell_type": "code",
   "execution_count": 4,
   "id": "294892d6",
   "metadata": {},
   "outputs": [
    {
     "name": "stdout",
     "output_type": "stream",
     "text": [
      "Enter Radius: 3\n",
      "Area is:  28.259999999999998\n"
     ]
    }
   ],
   "source": [
    "#4th Question\n",
    "\n",
    "x=input(\"Enter Radius: \")\n",
    "r=int(x)\n",
    "a=3.14*r*r\n",
    "print(\"Area is: \",a)\n"
   ]
  },
  {
   "cell_type": "code",
   "execution_count": 6,
   "id": "85d8eb82",
   "metadata": {},
   "outputs": [
    {
     "name": "stdout",
     "output_type": "stream",
     "text": [
      "Enter your first name: first\n",
      "Enter your second name: second\n",
      "second first\n"
     ]
    }
   ],
   "source": [
    "#5th Question\n",
    "\n",
    "x=input(\"Enter your first name: \")\n",
    "y=input(\"Enter your second name: \")\n",
    "print(y+\" \"+x)\n"
   ]
  },
  {
   "cell_type": "code",
   "execution_count": 7,
   "id": "b0556325",
   "metadata": {},
   "outputs": [
    {
     "name": "stdout",
     "output_type": "stream",
     "text": [
      "Enter first number: 3\n",
      "Enter second number: 4\n",
      "Answer is:  7\n"
     ]
    }
   ],
   "source": [
    "#6th Question\n",
    "\n",
    "a=input(\"Enter first number: \")\n",
    "b=input(\"Enter second number: \")\n",
    "c=int(a)\n",
    "d=int(b)\n",
    "e=c+d\n",
    "print(\"Answer is: \",e)"
   ]
  }
 ],
 "metadata": {
  "kernelspec": {
   "display_name": "Python 3 (ipykernel)",
   "language": "python",
   "name": "python3"
  },
  "language_info": {
   "codemirror_mode": {
    "name": "ipython",
    "version": 3
   },
   "file_extension": ".py",
   "mimetype": "text/x-python",
   "name": "python",
   "nbconvert_exporter": "python",
   "pygments_lexer": "ipython3",
   "version": "3.9.7"
  }
 },
 "nbformat": 4,
 "nbformat_minor": 5
}
